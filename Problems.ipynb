{
 "cells": [
  {
   "cell_type": "markdown",
   "id": "420d426f",
   "metadata": {},
   "source": [
    "# Problem 1"
   ]
  },
  {
   "cell_type": "markdown",
   "id": "0e3a8205",
   "metadata": {},
   "source": [
    "Count the amount of consecutive number of a given number and write the amount of similar consecutive number of equal digits and after the number. Concatenate this number.\n",
    "\n",
    "Example:\n",
    "\n",
    "| Input | Output |\n",
    "| ----- | ----- |\n",
    "| 112 | 2112 |\n",
    "| 111433 | 311423 |\n",
    "| 123322 | 11122322 |\n",
    "| 2222 | 42 |"
   ]
  },
  {
   "cell_type": "code",
   "execution_count": 1,
   "id": "d14e6deb",
   "metadata": {},
   "outputs": [],
   "source": [
    "def convert_number_to_list(number):\n",
    "    '''\n",
    "    Convert a number into a list by each digit'''\n",
    "    _list = []\n",
    "    for digit in str(number):\n",
    "        _list.append(digit)\n",
    "    return _list"
   ]
  },
  {
   "cell_type": "code",
   "execution_count": 2,
   "id": "00e559e0",
   "metadata": {},
   "outputs": [],
   "source": [
    "def count_first_equal_number(_list):\n",
    "    _list0 = _list[0]\n",
    "    counter = 1\n",
    "    _str = ''\n",
    "    _list_mod = _list.copy()\n",
    "\n",
    "    while True:\n",
    "        # If the number has only one digit print '1<NUMBER>'\n",
    "        if len(_list) == 1:\n",
    "            break\n",
    "        # For _list with length more than 1 count the amount on consecutive number for the first digit\n",
    "        if _list0 != _list[1]:\n",
    "            break\n",
    "        #_list_mod.remove(_list0)\n",
    "        if _list0 == _list[counter]:\n",
    "            # Count the amount of similar consecutive values\n",
    "            counter += 1\n",
    "            # Removing all the following consecutive equal digits\n",
    "            _list_mod.remove(_list0)\n",
    "        else:\n",
    "            # In any other case break the while\n",
    "            break\n",
    "\n",
    "    _str = _str + str(counter) + _list0\n",
    "    _list_mod.remove(_list0)\n",
    "    print(_str)\n",
    "    return _str, _list_mod"
   ]
  },
  {
   "cell_type": "code",
   "execution_count": 3,
   "id": "3f88776a",
   "metadata": {},
   "outputs": [
    {
     "name": "stdout",
     "output_type": "stream",
     "text": [
      "['3', '3', '3', '3', '2', '4', '2', '3', '3', '1']\n"
     ]
    }
   ],
   "source": [
    "number = 3333242331\n",
    "_list = convert_number_to_list(number)\n",
    "print(_list)"
   ]
  },
  {
   "cell_type": "code",
   "execution_count": 8,
   "id": "02816c71",
   "metadata": {},
   "outputs": [
    {
     "name": "stdout",
     "output_type": "stream",
     "text": [
      "['3', '3', '3', '2', '4', '2', '3', '3', '1']\n",
      "33\n",
      "['2', '4', '2', '3', '3', '1']\n",
      "33\n",
      "12\n",
      "['4', '2', '3', '3', '1']\n",
      "3312\n",
      "14\n",
      "['2', '3', '3', '1']\n",
      "331214\n",
      "12\n",
      "['3', '3', '1']\n",
      "33121412\n",
      "23\n",
      "['1']\n",
      "3312141223\n",
      "11\n",
      "[]\n",
      "331214122311\n",
      "The number result for 3333242331 is 331214122311\n"
     ]
    }
   ],
   "source": [
    "number = 3333242331\n",
    "_str = ''\n",
    "len_not_equal0 = True\n",
    "new_list = _list.copy()\n",
    "print(new_list)\n",
    "while len_not_equal0:\n",
    "    part , new_list = count_first_equal_number(new_list)\n",
    "    print(new_list)\n",
    "    _str = _str + part\n",
    "    print(_str)\n",
    "    if len(new_list) == 0:\n",
    "        len_not_equal0 = False\n",
    "        \n",
    "print(f'The number result for {number} is {_str}')"
   ]
  },
  {
   "cell_type": "markdown",
   "id": "bc672401",
   "metadata": {},
   "source": [
    "# Problem 2"
   ]
  },
  {
   "cell_type": "markdown",
   "id": "7a8a8aea",
   "metadata": {},
   "source": [
    "Calculate and print the sum of the elements in an array, keeping in mind that some of those integers may be quite large.\n",
    "\n",
    "Where the input will be given by n the numbers of elements to sum and the n amount of element to sum:\n",
    "\n",
    "If the input n is:\n",
    "\n",
    "3\n",
    "\n",
    "the n x n numbers are:\n",
    "\n",
    "123 1233 932"
   ]
  },
  {
   "cell_type": "code",
   "execution_count": 7,
   "id": "97521e92",
   "metadata": {},
   "outputs": [
    {
     "name": "stdout",
     "output_type": "stream",
     "text": [
      "3\n",
      "123 1233 932\n"
     ]
    },
    {
     "data": {
      "text/plain": [
       "2288"
      ]
     },
     "execution_count": 7,
     "metadata": {},
     "output_type": "execute_result"
    }
   ],
   "source": [
    "def aVeryBigSum(ar):\n",
    "    _sum = 0\n",
    "    for number in ar:\n",
    "        _sum += number\n",
    "    return _sum\n",
    "\n",
    "ar_count = int(input().strip())\n",
    "\n",
    "ar = list(map(int, input().rstrip().split()))\n",
    "\n",
    "result = aVeryBigSum(ar)\n",
    "result"
   ]
  },
  {
   "cell_type": "markdown",
   "id": "a3331fb3",
   "metadata": {},
   "source": [
    "# Problem 3"
   ]
  },
  {
   "cell_type": "markdown",
   "id": "fac8ef9a",
   "metadata": {},
   "source": [
    "Given a square matrix, calculate the absolute difference between the sums of its diagonals. \n",
    "\n",
    "The input will be given by a number n wich is the dimension of the matrix, and n x n numbers.\n",
    "\n",
    "If the input n is:\n",
    "\n",
    "3\n",
    "\n",
    "the n x n numbers are:\n",
    "\n",
    "1 4 5\n",
    "\n",
    "-2 3 -1\n",
    "\n",
    "2 1 5"
   ]
  },
  {
   "cell_type": "code",
   "execution_count": null,
   "id": "951c3345",
   "metadata": {},
   "outputs": [],
   "source": [
    "def diagonalDifference(arr):\n",
    "    _sum_diag = 0\n",
    "    _sum_diag_inv = 0\n",
    "    for i in range(n):\n",
    "        _sum_diag += arr[i][i]\n",
    "        _sum_diag_inv += arr[i][(n-1)-i] \n",
    "    return abs(_sum_diag-_sum_diag_inv )\n",
    "\n",
    "n = int(input().strip())\n",
    "\n",
    "arr = []\n",
    "\n",
    "for _ in range(n):\n",
    "    arr.append(list(map(int, input().rstrip().split())))\n",
    "\n",
    "result = diagonalDifference(arr)\n",
    "result"
   ]
  },
  {
   "cell_type": "markdown",
   "id": "65f07a72",
   "metadata": {},
   "source": [
    "# Problem 4"
   ]
  },
  {
   "cell_type": "markdown",
   "id": "4a03e13d",
   "metadata": {},
   "source": [
    "Sum the first n numbers using an recurrent proccess."
   ]
  },
  {
   "cell_type": "code",
   "execution_count": 8,
   "id": "4d96c910",
   "metadata": {},
   "outputs": [],
   "source": [
    "def recurrent_sum(n):\n",
    "    if n == 1:\n",
    "        return 1\n",
    "    else:\n",
    "        _sum = n + recurrent_sum(n-1)\n",
    "        return _sum"
   ]
  },
  {
   "cell_type": "code",
   "execution_count": 10,
   "id": "2a695e7d",
   "metadata": {},
   "outputs": [
    {
     "data": {
      "text/plain": [
       "15"
      ]
     },
     "execution_count": 10,
     "metadata": {},
     "output_type": "execute_result"
    }
   ],
   "source": [
    "recurrent_sum(5)"
   ]
  },
  {
   "cell_type": "markdown",
   "id": "b2051572",
   "metadata": {},
   "source": [
    "# Problem 5"
   ]
  },
  {
   "cell_type": "markdown",
   "id": "890d3fea",
   "metadata": {},
   "source": [
    "Given two arrays `a` and `b` with n scores for two people, where each position correspond to a set in a match of X game. We want to know which is the final mark, counting this but the amount of sets win.\n",
    "\n",
    "So we want to compare the entries in the array to know that, this is computed as follows:\n",
    "\n",
    "* Person `a` win a point if a[i] > b[i].\n",
    "* Person `b` win a point if a[i] < b[i].\n",
    "* No one wins points if a[i] = b[i]."
   ]
  },
  {
   "cell_type": "markdown",
   "id": "4999bb90",
   "metadata": {},
   "source": [
    "Example: \n",
    "\n",
    "For arrays with 5 entries we have that:\n",
    "\n",
    "23 45 32 41 13\n",
    "21 32 34 45 10"
   ]
  },
  {
   "cell_type": "code",
   "execution_count": 3,
   "id": "f14cdc1e",
   "metadata": {},
   "outputs": [
    {
     "name": "stdout",
     "output_type": "stream",
     "text": [
      "23 45 32 41 13\n",
      "21 32 34 45 10\n",
      "The final score is:\n",
      "[3, 2]\n"
     ]
    }
   ],
   "source": [
    "def compareTuples(a, b):\n",
    "    _sum1 = 0\n",
    "    _sum2 = 0\n",
    "    for i in range(len(a)):\n",
    "        if a[i] > b[i]:\n",
    "            _sum1 += 1\n",
    "        if a[i] < b[i]:\n",
    "            _sum2 += 1\n",
    "        if a[i] == b[i]:\n",
    "            continue\n",
    "        \n",
    "    return [_sum1 , _sum2] \n",
    " \n",
    "    # Write your code here\n",
    "\n",
    "a = list(map(int, input().rstrip().split()))\n",
    "b = list(map(int, input().rstrip().split()))\n",
    "\n",
    "result = compareTuples(a, b)\n",
    "print(f'The final score is:\\n{result}')"
   ]
  }
 ],
 "metadata": {
  "kernelspec": {
   "display_name": "Python 3 (ipykernel)",
   "language": "python",
   "name": "python3"
  },
  "language_info": {
   "codemirror_mode": {
    "name": "ipython",
    "version": 3
   },
   "file_extension": ".py",
   "mimetype": "text/x-python",
   "name": "python",
   "nbconvert_exporter": "python",
   "pygments_lexer": "ipython3",
   "version": "3.9.13"
  }
 },
 "nbformat": 4,
 "nbformat_minor": 5
}
