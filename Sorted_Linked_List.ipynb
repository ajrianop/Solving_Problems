{
 "cells": [
  {
   "cell_type": "markdown",
   "id": "d3a6a3d3",
   "metadata": {},
   "source": [
    "# Sorted Linked List"
   ]
  },
  {
   "cell_type": "code",
   "execution_count": 1,
   "id": "06005896",
   "metadata": {},
   "outputs": [],
   "source": [
    "class ListNode:\n",
    "    def __init__(self, val=0, next=None):\n",
    "        self.val = val\n",
    "        self.next = next"
   ]
  },
  {
   "cell_type": "code",
   "execution_count": 2,
   "id": "54c62e31",
   "metadata": {},
   "outputs": [],
   "source": [
    "def getLinkedList(_list):\n",
    "    linked_list = ListNode(0)\n",
    "    linked_list_tail = linked_list\n",
    "    for i in _list:\n",
    "        linked_list_tail.next = ListNode(i)\n",
    "        linked_list_tail = linked_list_tail.next\n",
    "    return linked_list.next"
   ]
  },
  {
   "cell_type": "code",
   "execution_count": 3,
   "id": "8d99ef9c",
   "metadata": {},
   "outputs": [],
   "source": [
    "def sortList(head):\n",
    "    result = ListNode(0)\n",
    "    result.next = nodeToInsert = head\n",
    "\n",
    "    while head and head.next:\n",
    "        if head.val > head.next.val:\n",
    "            # Locate nodeToInsert.\n",
    "            nodeToInsert = head.next\n",
    "            # Locate nodeToInsertPre.\n",
    "            nodeToInsertPre = result\n",
    "            while nodeToInsertPre.next.val < nodeToInsert.val:\n",
    "                nodeToInsertPre = nodeToInsertPre.next\n",
    "\n",
    "            head.next = nodeToInsert.next\n",
    "            # Insert nodeToInsert between nodeToInsertPre and nodeToInsertPre.next.\n",
    "            nodeToInsert.next = nodeToInsertPre.next\n",
    "            nodeToInsertPre.next = nodeToInsert\n",
    "        else:\n",
    "            head = head.next\n",
    "\n",
    "    return result.next"
   ]
  },
  {
   "cell_type": "code",
   "execution_count": 4,
   "id": "388f7b81",
   "metadata": {},
   "outputs": [],
   "source": [
    "# Don't erase the following to lines\n",
    "_list = [4,2,1,3]\n",
    "head0 = getLinkedList(_list)\n",
    "# List Node sorted\n",
    "node = sortList(head0)"
   ]
  }
 ],
 "metadata": {
  "kernelspec": {
   "display_name": "Python 3 (ipykernel)",
   "language": "python",
   "name": "python3"
  },
  "language_info": {
   "codemirror_mode": {
    "name": "ipython",
    "version": 3
   },
   "file_extension": ".py",
   "mimetype": "text/x-python",
   "name": "python",
   "nbconvert_exporter": "python",
   "pygments_lexer": "ipython3",
   "version": "3.9.13"
  }
 },
 "nbformat": 4,
 "nbformat_minor": 5
}
