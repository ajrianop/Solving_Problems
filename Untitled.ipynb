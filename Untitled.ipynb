{
 "cells": [
  {
   "cell_type": "markdown",
   "id": "420d426f",
   "metadata": {},
   "source": [
    "# Problem 1"
   ]
  },
  {
   "cell_type": "markdown",
   "id": "0e3a8205",
   "metadata": {},
   "source": [
    "Count the amount of consecutive number of a given number and write the amount of similar consecutive number of equal digits and after the number. Concatenate this number.\n",
    "\n",
    "Example:\n",
    "\n",
    "| Input | Output |\n",
    "| ----- | ----- |\n",
    "| 112 | 2112 |\n",
    "| 111433 | 311423 |\n",
    "| 123322 | 11122322 |\n",
    "| 2222 | 42 |"
   ]
  },
  {
   "cell_type": "code",
   "execution_count": 1,
   "id": "d14e6deb",
   "metadata": {},
   "outputs": [],
   "source": [
    "def convert_number_to_list(number):\n",
    "    '''\n",
    "    Convert a number into a list by each digit'''\n",
    "    _list = []\n",
    "    for digit in str(number):\n",
    "        _list.append(digit)\n",
    "    return _list"
   ]
  },
  {
   "cell_type": "code",
   "execution_count": 45,
   "id": "00e559e0",
   "metadata": {},
   "outputs": [
    {
     "name": "stdout",
     "output_type": "stream",
     "text": [
      "['3', '3', '3', '4', '2', '3', '3', '1']\n",
      "23\n",
      "2333\n",
      "['3', '4', '2', '3', '3', '1'] hellp1\n"
     ]
    },
    {
     "data": {
      "text/plain": [
       "('13', ['4', '2', '3', '3', '1'])"
      ]
     },
     "execution_count": 45,
     "metadata": {},
     "output_type": "execute_result"
    }
   ],
   "source": [
    "def count_first_equal_number(_list):\n",
    "    _list0 = _list[0]\n",
    "    counter = 1\n",
    "    _str = ''\n",
    "    _list_mod = _list.copy()\n",
    "    \n",
    "    while True:\n",
    "        # If the number has only one digit print '1<NUMBER>'\n",
    "        if len(_list) == 1:\n",
    "            _str = '1'+ _list0\n",
    "            _list_mod.remove(_list0)\n",
    "            break\n",
    "        # For _list with length more than 1 count the amount on consecutive number for the first digit\n",
    "        if _list0 != _list[counter]:\n",
    "            _str = '1' + _list0\n",
    "            print(_list_mod)\n",
    "            _list_mod.remove(_list0)\n",
    "            break\n",
    "        #_list_mod.remove(_list0)\n",
    "        if _list0 == _list[counter]:\n",
    "            # Count the amount of similar consecutive values\n",
    "            counter += 1\n",
    "            # Removing all the following consecutive equal digits\n",
    "            _list_mod.remove(_list0)\n",
    "        else:\n",
    "            # In any other case break the while\n",
    "            break\n",
    "        _str = _str + str(counter) + _list0\n",
    "        print(_str)\n",
    "    return _str, _list_mod\n",
    "\n",
    "number = 33342331\n",
    "_list = convert_number_to_list(number)\n",
    "print(_list)\n",
    "count_first_equal_number(_list)\n",
    "\n",
    "## See the case when the first digit compared with the second digit is different"
   ]
  },
  {
   "cell_type": "code",
   "execution_count": 35,
   "id": "3f88776a",
   "metadata": {},
   "outputs": [
    {
     "name": "stdout",
     "output_type": "stream",
     "text": [
      "['3', '2', '3', '3', '1']\n"
     ]
    }
   ],
   "source": [
    "number = 32331\n",
    "_list = convert_number_to_list(number)\n",
    "print(_list)"
   ]
  },
  {
   "cell_type": "code",
   "execution_count": 37,
   "id": "02816c71",
   "metadata": {},
   "outputs": [
    {
     "name": "stdout",
     "output_type": "stream",
     "text": [
      "2\n",
      "['2', '3', '3', '1']\n",
      "['3', '3', '1']\n"
     ]
    }
   ],
   "source": [
    "_list0 = _list[0]\n",
    "print(_list0)\n",
    "print(_list)\n",
    "_list.remove(_list0)\n",
    "print(_list)"
   ]
  }
 ],
 "metadata": {
  "kernelspec": {
   "display_name": "Python 3 (ipykernel)",
   "language": "python",
   "name": "python3"
  },
  "language_info": {
   "codemirror_mode": {
    "name": "ipython",
    "version": 3
   },
   "file_extension": ".py",
   "mimetype": "text/x-python",
   "name": "python",
   "nbconvert_exporter": "python",
   "pygments_lexer": "ipython3",
   "version": "3.9.13"
  }
 },
 "nbformat": 4,
 "nbformat_minor": 5
}
